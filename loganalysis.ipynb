{
 "cells": [
  {
   "cell_type": "code",
   "execution_count": 1,
   "metadata": {
    "slideshow": {
     "slide_type": "skip"
    }
   },
   "outputs": [],
   "source": [
    "import pandas as pd\n",
    "import matplotlib.pyplot as plt\n",
    "import seaborn as sns\n",
    "%matplotlib inline\n",
    "pd.options.display.max_rows = 999\n",
    "pd.set_option('max_colwidth', 300)\n",
    "pd.options.display.float_format = '{:,.3f}'.format"
   ]
  },
  {
   "cell_type": "code",
   "execution_count": 2,
   "metadata": {
    "slideshow": {
     "slide_type": "skip"
    }
   },
   "outputs": [],
   "source": [
    "import os \n",
    "path='C:\\\\Users\\\\sakula3\\\\Documents\\\\Python Scripts\\\\20190624'\n",
    "os.chdir(path)\n",
    "files = os.listdir()"
   ]
  },
  {
   "cell_type": "code",
   "execution_count": 3,
   "metadata": {
    "slideshow": {
     "slide_type": "skip"
    }
   },
   "outputs": [],
   "source": [
    "## Sample file\n",
    "# myheader=['Event','SubEvent','LogLevel','SarmId','TStamp','Summary']\n",
    "# data = pd.read_csv('FINSAsiaObjMgr_enu_0079_82837613.log',sep='\\t',skiprows=1,header=None, names=myheader,verbose=True)\n",
    "# data.head()"
   ]
  },
  {
   "cell_type": "markdown",
   "metadata": {
    "slideshow": {
     "slide_type": "skip"
    }
   },
   "source": [
    "### <h2 align='Center' style=\"color:blue;\">Import Log Data</h2> "
   ]
  },
  {
   "cell_type": "code",
   "execution_count": 3,
   "metadata": {
    "slideshow": {
     "slide_type": "skip"
    }
   },
   "outputs": [],
   "source": [
    "myheader=['Event','SubEvent','LogLevel','SarmId','TStamp','Summary']\n",
    "ldf=[]\n",
    "for f in files:\n",
    "    df = pd.read_csv(f,sep='\\t',skiprows=1,header=None, names=myheader)\n",
    "    ldf.append(df)\n",
    "data=pd.concat(ldf)"
   ]
  },
  {
   "cell_type": "code",
   "execution_count": 5,
   "metadata": {
    "slideshow": {
     "slide_type": "skip"
    }
   },
   "outputs": [
    {
     "name": "stderr",
     "output_type": "stream",
     "text": [
      "C:\\Users\\sakula3\\AppData\\Local\\Continuum\\anaconda3\\lib\\site-packages\\ipykernel_launcher.py:9: SettingWithCopyWarning: \n",
      "A value is trying to be set on a copy of a slice from a DataFrame.\n",
      "Try using .loc[row_indexer,col_indexer] = value instead\n",
      "\n",
      "See the caveats in the documentation: http://pandas.pydata.org/pandas-docs/stable/indexing.html#indexing-view-versus-copy\n",
      "  if __name__ == '__main__':\n",
      "C:\\Users\\sakula3\\AppData\\Local\\Continuum\\anaconda3\\lib\\site-packages\\ipykernel_launcher.py:10: SettingWithCopyWarning: \n",
      "A value is trying to be set on a copy of a slice from a DataFrame.\n",
      "Try using .loc[row_indexer,col_indexer] = value instead\n",
      "\n",
      "See the caveats in the documentation: http://pandas.pydata.org/pandas-docs/stable/indexing.html#indexing-view-versus-copy\n",
      "  # Remove the CWD from sys.path while we load stuff.\n"
     ]
    }
   ],
   "source": [
    "# Filter by InvokeMethod\n",
    "bsdata = data[(data['SubEvent'] == \"InvokeMethod\") & (data['Summary'].str.endswith(\"seconds.\", na=False)) ]\n",
    "# bsdata.head(5)\n",
    "\n",
    "summary=bsdata.Summary\n",
    "# summary.head(5)\n",
    "\n",
    "# data['BS'] = summary.str.extract(\"'(.*?)'\", expand=True)\n",
    "bsdata['BS'],bsdata['Method'] = zip(*summary.str.findall(\"'(.*?)'\"))\n",
    "bsdata['Esecs'] = summary.str.extract( '(\\d+.\\d\\d\\d)',expand=True).astype('float')"
   ]
  },
  {
   "cell_type": "markdown",
   "metadata": {
    "slideshow": {
     "slide_type": "slide"
    }
   },
   "source": [
    "###  <h2 align='Center' style=\"color:blue;\">Business Service - Method by Average Execution Time (>2secs)</h2>"
   ]
  },
  {
   "cell_type": "code",
   "execution_count": 6,
   "metadata": {
    "slideshow": {
     "slide_type": "-"
    }
   },
   "outputs": [
    {
     "data": {
      "text/html": [
       "<div>\n",
       "<style scoped>\n",
       "    .dataframe tbody tr th:only-of-type {\n",
       "        vertical-align: middle;\n",
       "    }\n",
       "\n",
       "    .dataframe tbody tr th {\n",
       "        vertical-align: top;\n",
       "    }\n",
       "\n",
       "    .dataframe thead th {\n",
       "        text-align: right;\n",
       "    }\n",
       "</style>\n",
       "<table border=\"1\" class=\"dataframe\">\n",
       "  <thead>\n",
       "    <tr style=\"text-align: right;\">\n",
       "      <th></th>\n",
       "      <th>Method</th>\n",
       "      <th>Esecs</th>\n",
       "    </tr>\n",
       "    <tr>\n",
       "      <th>BS</th>\n",
       "      <th></th>\n",
       "      <th></th>\n",
       "    </tr>\n",
       "  </thead>\n",
       "  <tbody>\n",
       "    <tr>\n",
       "      <th>FINS Teller UI Navigation</th>\n",
       "      <td>RefreshCurrentApplet</td>\n",
       "      <td>8.569</td>\n",
       "    </tr>\n",
       "    <tr>\n",
       "      <th>Web Engine Interface</th>\n",
       "      <td>Request</td>\n",
       "      <td>5.873</td>\n",
       "    </tr>\n",
       "    <tr>\n",
       "      <th>EAI Siebel Adapter</th>\n",
       "      <td>Execute</td>\n",
       "      <td>5.870</td>\n",
       "    </tr>\n",
       "    <tr>\n",
       "      <th>PIM Client Sync Service</th>\n",
       "      <td>SiebelObjectOperations</td>\n",
       "      <td>5.802</td>\n",
       "    </tr>\n",
       "    <tr>\n",
       "      <th>Web Service Inbound Dispatcher</th>\n",
       "      <td>Dispatch</td>\n",
       "      <td>5.789</td>\n",
       "    </tr>\n",
       "    <tr>\n",
       "      <th>EAI Transport Dispatch Service</th>\n",
       "      <td>GenericDispatch</td>\n",
       "      <td>5.787</td>\n",
       "    </tr>\n",
       "    <tr>\n",
       "      <th>EAI Siebel Adapter</th>\n",
       "      <td>QueryPage</td>\n",
       "      <td>5.752</td>\n",
       "    </tr>\n",
       "    <tr>\n",
       "      <th>Synchronous Server Requests</th>\n",
       "      <td>SubmitRequest</td>\n",
       "      <td>4.694</td>\n",
       "    </tr>\n",
       "    <tr>\n",
       "      <th>PIM Client Metadata Service</th>\n",
       "      <td>DownloadMetadataFiles</td>\n",
       "      <td>4.214</td>\n",
       "    </tr>\n",
       "    <tr>\n",
       "      <th>Workflow Process Manager</th>\n",
       "      <td>_RunSubProcess</td>\n",
       "      <td>3.471</td>\n",
       "    </tr>\n",
       "    <tr>\n",
       "      <th>EAI Siebel Adapter</th>\n",
       "      <td>Upsert</td>\n",
       "      <td>3.414</td>\n",
       "    </tr>\n",
       "    <tr>\n",
       "      <th>EAI Siebel Adapter</th>\n",
       "      <td>Query</td>\n",
       "      <td>3.337</td>\n",
       "    </tr>\n",
       "    <tr>\n",
       "      <th>Task UI Service (SWE)</th>\n",
       "      <td>LaunchTask</td>\n",
       "      <td>3.198</td>\n",
       "    </tr>\n",
       "    <tr>\n",
       "      <th>Workflow Process Manager</th>\n",
       "      <td>RunProcess</td>\n",
       "      <td>3.193</td>\n",
       "    </tr>\n",
       "    <tr>\n",
       "      <th>SWE Command Manager</th>\n",
       "      <td>#36</td>\n",
       "      <td>3.059</td>\n",
       "    </tr>\n",
       "    <tr>\n",
       "      <th>Task UI Service (SWE)</th>\n",
       "      <td>NavigateNext</td>\n",
       "      <td>2.225</td>\n",
       "    </tr>\n",
       "  </tbody>\n",
       "</table>\n",
       "</div>"
      ],
      "text/plain": [
       "                                                Method  Esecs\n",
       "BS                                                           \n",
       "FINS Teller UI Navigation         RefreshCurrentApplet  8.569\n",
       "Web Engine Interface                           Request  5.873\n",
       "EAI Siebel Adapter                             Execute  5.870\n",
       "PIM Client Sync Service         SiebelObjectOperations  5.802\n",
       "Web Service Inbound Dispatcher                Dispatch  5.789\n",
       "EAI Transport Dispatch Service         GenericDispatch  5.787\n",
       "EAI Siebel Adapter                           QueryPage  5.752\n",
       "Synchronous Server Requests              SubmitRequest  4.694\n",
       "PIM Client Metadata Service      DownloadMetadataFiles  4.214\n",
       "Workflow Process Manager                _RunSubProcess  3.471\n",
       "EAI Siebel Adapter                              Upsert  3.414\n",
       "EAI Siebel Adapter                               Query  3.337\n",
       "Task UI Service (SWE)                       LaunchTask  3.198\n",
       "Workflow Process Manager                    RunProcess  3.193\n",
       "SWE Command Manager                                #36  3.059\n",
       "Task UI Service (SWE)                     NavigateNext  2.225"
      ]
     },
     "execution_count": 6,
     "metadata": {},
     "output_type": "execute_result"
    }
   ],
   "source": [
    "# Where Execution time is >= 2 Second\n",
    "avgbs=bsdata[bsdata['Esecs'] >= 2].groupby(['BS','Method']).Esecs.mean()\n",
    "avgbs=pd.DataFrame(avgbs)\n",
    "avgbs.reset_index(level='Method', inplace=True)\n",
    "avgbs.sort_values(by=['Esecs'], ascending=False, inplace=True)\n",
    "avgbs"
   ]
  },
  {
   "cell_type": "code",
   "execution_count": 7,
   "metadata": {
    "scrolled": true,
    "slideshow": {
     "slide_type": "-"
    }
   },
   "outputs": [
    {
     "data": {
      "image/png": "[encoded data removed]",
      "text/plain": [
       "<Figure size 576x288 with 1 Axes>"
      ]
     },
     "metadata": {},
     "output_type": "display_data"
    }
   ],
   "source": [
    "# Barplot for Avg. Execution Time\n",
    "sns.set(style=\"whitegrid\")\n",
    "plt.figure(figsize=(8,4))\n",
    "plt.title('Business Service by Avg. Execution Time')\n",
    "sns.barplot(x=avgbs['Esecs'], y=avgbs.index)\n",
    "plt.xlabel='Seconds'"
   ]
  },
  {
   "cell_type": "markdown",
   "metadata": {
    "slideshow": {
     "slide_type": "slide"
    }
   },
   "source": [
    "### <h2 align='Center' style=\"color:blue;\"> Bucket Count grouped by Business Service and Method</h2>"
   ]
  },
  {
   "cell_type": "code",
   "execution_count": 8,
   "metadata": {},
   "outputs": [],
   "source": [
    "\n",
    "# bsdata[bsdata.Esecs > 30]\n"
   ]
  },
  {
   "cell_type": "code",
   "execution_count": 8,
   "metadata": {
    "slideshow": {
     "slide_type": "-"
    }
   },
   "outputs": [
    {
     "data": {
      "text/html": [
       "<div>\n",
       "<style scoped>\n",
       "    .dataframe tbody tr th:only-of-type {\n",
       "        vertical-align: middle;\n",
       "    }\n",
       "\n",
       "    .dataframe tbody tr th {\n",
       "        vertical-align: top;\n",
       "    }\n",
       "\n",
       "    .dataframe thead th {\n",
       "        text-align: right;\n",
       "    }\n",
       "</style>\n",
       "<table border=\"1\" class=\"dataframe\">\n",
       "  <thead>\n",
       "    <tr style=\"text-align: right;\">\n",
       "      <th></th>\n",
       "      <th></th>\n",
       "      <th>bins</th>\n",
       "      <th>count</th>\n",
       "    </tr>\n",
       "    <tr>\n",
       "      <th>BS</th>\n",
       "      <th>Method</th>\n",
       "      <th></th>\n",
       "      <th></th>\n",
       "    </tr>\n",
       "  </thead>\n",
       "  <tbody>\n",
       "    <tr>\n",
       "      <th rowspan=\"4\" valign=\"top\">EAI Siebel Adapter</th>\n",
       "      <th>Execute</th>\n",
       "      <td>&gt;2</td>\n",
       "      <td>17</td>\n",
       "    </tr>\n",
       "    <tr>\n",
       "      <th>Query</th>\n",
       "      <td>&gt;2</td>\n",
       "      <td>2</td>\n",
       "    </tr>\n",
       "    <tr>\n",
       "      <th>QueryPage</th>\n",
       "      <td>&gt;2</td>\n",
       "      <td>323</td>\n",
       "    </tr>\n",
       "    <tr>\n",
       "      <th>Upsert</th>\n",
       "      <td>&gt;2</td>\n",
       "      <td>7</td>\n",
       "    </tr>\n",
       "    <tr>\n",
       "      <th rowspan=\"2\" valign=\"top\">EAI Transport Dispatch Service</th>\n",
       "      <th>GenericDispatch</th>\n",
       "      <td>&lt;2</td>\n",
       "      <td>3</td>\n",
       "    </tr>\n",
       "    <tr>\n",
       "      <th>GenericDispatch</th>\n",
       "      <td>&gt;2</td>\n",
       "      <td>1725</td>\n",
       "    </tr>\n",
       "    <tr>\n",
       "      <th>FINS Teller UI Navigation</th>\n",
       "      <th>RefreshCurrentApplet</th>\n",
       "      <td>&gt;2</td>\n",
       "      <td>9</td>\n",
       "    </tr>\n",
       "    <tr>\n",
       "      <th>PIM Client Metadata Service</th>\n",
       "      <th>DownloadMetadataFiles</th>\n",
       "      <td>&gt;2</td>\n",
       "      <td>1</td>\n",
       "    </tr>\n",
       "    <tr>\n",
       "      <th rowspan=\"2\" valign=\"top\">PIM Client Sync Service</th>\n",
       "      <th>SiebelObjectOperations</th>\n",
       "      <td>&lt;2</td>\n",
       "      <td>1</td>\n",
       "    </tr>\n",
       "    <tr>\n",
       "      <th>SiebelObjectOperations</th>\n",
       "      <td>&gt;2</td>\n",
       "      <td>1713</td>\n",
       "    </tr>\n",
       "    <tr>\n",
       "      <th>SWE Command Manager</th>\n",
       "      <th>#36</th>\n",
       "      <td>&gt;2</td>\n",
       "      <td>3</td>\n",
       "    </tr>\n",
       "    <tr>\n",
       "      <th>Synchronous Server Requests</th>\n",
       "      <th>SubmitRequest</th>\n",
       "      <td>&gt;2</td>\n",
       "      <td>139</td>\n",
       "    </tr>\n",
       "    <tr>\n",
       "      <th rowspan=\"2\" valign=\"top\">Task UI Service (SWE)</th>\n",
       "      <th>LaunchTask</th>\n",
       "      <td>&gt;2</td>\n",
       "      <td>1</td>\n",
       "    </tr>\n",
       "    <tr>\n",
       "      <th>NavigateNext</th>\n",
       "      <td>&gt;2</td>\n",
       "      <td>1</td>\n",
       "    </tr>\n",
       "    <tr>\n",
       "      <th rowspan=\"2\" valign=\"top\">Web Engine Interface</th>\n",
       "      <th>Request</th>\n",
       "      <td>&lt;2</td>\n",
       "      <td>3</td>\n",
       "    </tr>\n",
       "    <tr>\n",
       "      <th>Request</th>\n",
       "      <td>&gt;2</td>\n",
       "      <td>2194</td>\n",
       "    </tr>\n",
       "    <tr>\n",
       "      <th rowspan=\"2\" valign=\"top\">Web Service Inbound Dispatcher</th>\n",
       "      <th>Dispatch</th>\n",
       "      <td>&lt;2</td>\n",
       "      <td>2</td>\n",
       "    </tr>\n",
       "    <tr>\n",
       "      <th>Dispatch</th>\n",
       "      <td>&gt;2</td>\n",
       "      <td>1725</td>\n",
       "    </tr>\n",
       "    <tr>\n",
       "      <th rowspan=\"2\" valign=\"top\">Workflow Process Manager</th>\n",
       "      <th>RunProcess</th>\n",
       "      <td>&gt;2</td>\n",
       "      <td>14</td>\n",
       "    </tr>\n",
       "    <tr>\n",
       "      <th>_RunSubProcess</th>\n",
       "      <td>&gt;2</td>\n",
       "      <td>7</td>\n",
       "    </tr>\n",
       "  </tbody>\n",
       "</table>\n",
       "</div>"
      ],
      "text/plain": [
       "                                                      bins  count\n",
       "BS                             Method                            \n",
       "EAI Siebel Adapter             Execute                  >2     17\n",
       "                               Query                    >2      2\n",
       "                               QueryPage                >2    323\n",
       "                               Upsert                   >2      7\n",
       "EAI Transport Dispatch Service GenericDispatch          <2      3\n",
       "                               GenericDispatch          >2   1725\n",
       "FINS Teller UI Navigation      RefreshCurrentApplet     >2      9\n",
       "PIM Client Metadata Service    DownloadMetadataFiles    >2      1\n",
       "PIM Client Sync Service        SiebelObjectOperations   <2      1\n",
       "                               SiebelObjectOperations   >2   1713\n",
       "SWE Command Manager            #36                      >2      3\n",
       "Synchronous Server Requests    SubmitRequest            >2    139\n",
       "Task UI Service (SWE)          LaunchTask               >2      1\n",
       "                               NavigateNext             >2      1\n",
       "Web Engine Interface           Request                  <2      3\n",
       "                               Request                  >2   2194\n",
       "Web Service Inbound Dispatcher Dispatch                 <2      2\n",
       "                               Dispatch                 >2   1725\n",
       "Workflow Process Manager       RunProcess               >2     14\n",
       "                               _RunSubProcess           >2      7"
      ]
     },
     "execution_count": 8,
     "metadata": {},
     "output_type": "execute_result"
    }
   ],
   "source": [
    "timesbs=bsdata.loc[:,'BS':]\n",
    "timesbs=timesbs[timesbs['Esecs'] >= 2]\n",
    "bins=[0,2,10000]\n",
    "labels=['<2','>2']\n",
    "timesbs['bins']=pd.cut(timesbs['Esecs'], bins=bins, labels=labels)\n",
    "timesbs=pd.DataFrame(timesbs.groupby(['BS','Method','bins']).bins.count())\n",
    "timesbs.rename(columns={'bins':'count'}, inplace=True)\n",
    "timesbs.reset_index(level='bins', inplace=True)\n",
    "timesbs"
   ]
  },
  {
   "cell_type": "markdown",
   "metadata": {
    "slideshow": {
     "slide_type": "slide"
    }
   },
   "source": [
    "### <h2 align='Center' style=\"color:blue;\">PIM Client Sync Service</h2>"
   ]
  },
  {
   "cell_type": "code",
   "execution_count": 9,
   "metadata": {
    "slideshow": {
     "slide_type": "-"
    }
   },
   "outputs": [
    {
     "data": {
      "text/html": [
       "<div>\n",
       "<style scoped>\n",
       "    .dataframe tbody tr th:only-of-type {\n",
       "        vertical-align: middle;\n",
       "    }\n",
       "\n",
       "    .dataframe tbody tr th {\n",
       "        vertical-align: top;\n",
       "    }\n",
       "\n",
       "    .dataframe thead th {\n",
       "        text-align: right;\n",
       "    }\n",
       "</style>\n",
       "<table border=\"1\" class=\"dataframe\">\n",
       "  <thead>\n",
       "    <tr style=\"text-align: right;\">\n",
       "      <th></th>\n",
       "      <th>bins</th>\n",
       "      <th>count</th>\n",
       "    </tr>\n",
       "    <tr>\n",
       "      <th>Method</th>\n",
       "      <th></th>\n",
       "      <th></th>\n",
       "    </tr>\n",
       "  </thead>\n",
       "  <tbody>\n",
       "    <tr>\n",
       "      <th>SiebelObjectOperations</th>\n",
       "      <td>&lt;2</td>\n",
       "      <td>1</td>\n",
       "    </tr>\n",
       "    <tr>\n",
       "      <th>SiebelObjectOperations</th>\n",
       "      <td>&gt;2</td>\n",
       "      <td>1713</td>\n",
       "    </tr>\n",
       "  </tbody>\n",
       "</table>\n",
       "</div>"
      ],
      "text/plain": [
       "                       bins  count\n",
       "Method                            \n",
       "SiebelObjectOperations   <2      1\n",
       "SiebelObjectOperations   >2   1713"
      ]
     },
     "execution_count": 9,
     "metadata": {},
     "output_type": "execute_result"
    }
   ],
   "source": [
    "bs1 = timesbs.loc['PIM Client Sync Service']\n",
    "bs1"
   ]
  },
  {
   "cell_type": "code",
   "execution_count": 10,
   "metadata": {
    "slideshow": {
     "slide_type": "-"
    }
   },
   "outputs": [
    {
     "data": {
      "text/plain": [
       "<matplotlib.axes._subplots.AxesSubplot at 0x134ecdd56a0>"
      ]
     },
     "execution_count": 10,
     "metadata": {},
     "output_type": "execute_result"
    },
    {
     "data": {
      "image/png": "[encoded data removed]",
      "text/plain": [
       "<Figure size 432x288 with 1 Axes>"
      ]
     },
     "metadata": {},
     "output_type": "display_data"
    }
   ],
   "source": [
    "sns.set(style=\"whitegrid\")\n",
    "plt.title('PIM Client Sync Service (SiebelObjectOperations) - Time Bins')\n",
    "sns.barplot(x=bs1['bins'], y=bs1['count'])"
   ]
  },
  {
   "cell_type": "markdown",
   "metadata": {
    "slideshow": {
     "slide_type": "slide"
    }
   },
   "source": [
    "### <h2 align='Center' style=\"color:blue;\">EAI Siebel Adapter</h2>"
   ]
  },
  {
   "cell_type": "code",
   "execution_count": 11,
   "metadata": {
    "slideshow": {
     "slide_type": "-"
    }
   },
   "outputs": [
    {
     "data": {
      "text/html": [
       "<div>\n",
       "<style scoped>\n",
       "    .dataframe tbody tr th:only-of-type {\n",
       "        vertical-align: middle;\n",
       "    }\n",
       "\n",
       "    .dataframe tbody tr th {\n",
       "        vertical-align: top;\n",
       "    }\n",
       "\n",
       "    .dataframe thead th {\n",
       "        text-align: right;\n",
       "    }\n",
       "</style>\n",
       "<table border=\"1\" class=\"dataframe\">\n",
       "  <thead>\n",
       "    <tr style=\"text-align: right;\">\n",
       "      <th></th>\n",
       "      <th></th>\n",
       "      <th>bins</th>\n",
       "      <th>count</th>\n",
       "    </tr>\n",
       "    <tr>\n",
       "      <th>BS</th>\n",
       "      <th>Method</th>\n",
       "      <th></th>\n",
       "      <th></th>\n",
       "    </tr>\n",
       "  </thead>\n",
       "  <tbody>\n",
       "    <tr>\n",
       "      <th>EAI Siebel Adapter</th>\n",
       "      <th>QueryPage</th>\n",
       "      <td>&gt;2</td>\n",
       "      <td>323</td>\n",
       "    </tr>\n",
       "  </tbody>\n",
       "</table>\n",
       "</div>"
      ],
      "text/plain": [
       "                             bins  count\n",
       "BS                 Method               \n",
       "EAI Siebel Adapter QueryPage   >2    323"
      ]
     },
     "execution_count": 11,
     "metadata": {},
     "output_type": "execute_result"
    }
   ],
   "source": [
    "bs2 = timesbs.loc['EAI Siebel Adapter','QueryPage']\n",
    "bs2"
   ]
  },
  {
   "cell_type": "code",
   "execution_count": 12,
   "metadata": {
    "slideshow": {
     "slide_type": "-"
    }
   },
   "outputs": [
    {
     "data": {
      "text/plain": [
       "<matplotlib.axes._subplots.AxesSubplot at 0x134ff93b7f0>"
      ]
     },
     "execution_count": 12,
     "metadata": {},
     "output_type": "execute_result"
    },
    {
     "data": {
      "image/png": "[encoded data removed]",
      "text/plain": [
       "<Figure size 432x288 with 1 Axes>"
      ]
     },
     "metadata": {},
     "output_type": "display_data"
    }
   ],
   "source": [
    "sns.set(style=\"whitegrid\")\n",
    "plt.title('EAI Siebel Adapter (QueryPage) - Time Bins')\n",
    "sns.barplot(x=bs2['bins'], y=bs2['count'])"
   ]
  }
 ],
 "metadata": {
  "kernelspec": {
   "display_name": "Python 3",
   "language": "python",
   "name": "python3"
  },
  "language_info": {
   "codemirror_mode": {
    "name": "ipython",
    "version": 3
   },
   "file_extension": ".py",
   "mimetype": "text/x-python",
   "name": "python",
   "nbconvert_exporter": "python",
   "pygments_lexer": "ipython3",
   "version": "3.7.3"
  }
 },
 "nbformat": 4,
 "nbformat_minor": 2
}
